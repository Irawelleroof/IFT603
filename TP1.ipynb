{
 "cells": [
  {
   "cell_type": "markdown",
   "id": "652627ba",
   "metadata": {},
   "source": [
    "# IFT603-TP1\n",
    "\n",
    "## <u>Formulation probabiliste</u>\n",
    "Soient $X=\\{x_1, \\dots, x_n\\}$ et $Y= \\{y_1,\\dots, y_n\\}$\n",
    "### 1-Montrons que $H[x, y]=H[y|x]+H[x]$ :\n",
    "\n",
    "On a :\n",
    "\n",
    "$$\n",
    "\\begin{align}\n",
    "H(X,Y) &=   -\\sum_{i}\\sum_j P(x_i, y_j)log_2(P(x_i, y_j))\\\\\n",
    "&=  -\\sum_{i}\\sum_j P(y_j|x_i)P(x_i)log_2(P(y_j|x_i)P(x_i)) \\\\\n",
    "&=  -\\sum_{i}\\sum_j P(y_j|x_i)P(x_i)[log_2(P(y_j|x_i))+log_2(P(x_i))]\\\\\n",
    "&=   -\\sum_{i}\\sum_j P(y_j|x_i)P(x_i)log_2(P(y_j|x_i)) -\\sum_{i}\\sum_j P(y_j|x_i)P(x_i)log_2(P(x_i))\\\\\n",
    "&= -\\sum_{i}\\sum_j P(x_i, y_j)log_2(P(y_j|x_i)) -\\sum_{i}P(x_i)log_2(P(x_i))\\underbrace{\\sum_j P(y_j|x_i)}_{=1}\\\\\n",
    "Donc, \\ \\boxed{H(X, Y)=H(Y|X)+H(X)}\n",
    "\\end{align}\n",
    "$$\n",
    "\n",
    "### 2-Montrons que $I[X,Y] = H[X] - H[X|Y] $\n",
    " \n",
    "On a : \n",
    "\n",
    "$$\n",
    "\\begin{align}\n",
    "I(X, Y)&= \\sum_i\\sum_j P(x_i, y_j)log_2(\\frac{P(x_i, y_j)}{P(x_i)P(y_j)})\\\\\n",
    "&=\\sum_i\\sum_j P(x_i, y_j)[log_2(P(x_i, y_j))-log_2(P(x_i))-log_2(P(y_j))]\\\\\n",
    "&=-H(X, Y)-\\sum_i\\sum_j P(x_i,y_j)log_2(P(x_i))-\\sum_i\\sum_j P(x_i,y_j)log_2(P(y_j))\\\\\n",
    "&=-H(X, Y)-\\sum_i P(x_i)log_2(P(x_i))\\underbrace{\\sum_j P(y_j|x_i)}_{=1}-\\sum_j P(y_i)log_2(P(y_j)) \\underbrace{\\sum_i P(x_i|y_j)}_{=1}\\\\\n",
    "&=-\\underbrace{H(X, Y)}_{=H(X|Y)+H(Y)\\ d'après\\ (1)}+H(X)+H(Y)\\\\\n",
    "\n",
    "\\end{align}\n",
    "$$"
   ]
  },
  {
   "cell_type": "markdown",
   "id": "3a4868c5",
   "metadata": {},
   "source": []
  }
 ],
 "metadata": {
  "language_info": {
   "name": "python"
  }
 },
 "nbformat": 4,
 "nbformat_minor": 5
}
