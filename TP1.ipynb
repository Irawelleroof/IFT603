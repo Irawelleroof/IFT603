{
 "cells": [
  {
   "cell_type": "markdown",
   "id": "652627ba",
   "metadata": {},
   "source": [
    "# IFT603-TP1\n",
    "\n",
    "## <u>Formulation probabiliste</u>\n",
    "Soient $X=\\{x_1, \\dots, x_n\\}$ et $Y= \\{y_1,\\dots, y_n\\}$\n",
    "### 1-Montrons que $H[x, y]=H[y|x]+H[x]$ :\n",
    "\n",
    "On a :\n",
    "\n",
    "$$\n",
    "\\begin{align}\n",
    "H(X,Y) &=   -\\sum_{i}\\sum_j P(x_i, y_j)log_2(P(x_i, y_j))\\\\\n",
    "&=  -\\sum_{i}\\sum_j P(y_j|x_i)P(x_i)log_2(P(y_j|x_i)P(x_i)) \\\\\n",
    "&=  -\\sum_{i}\\sum_j P(y_j|x_i)P(x_i)[log_2(P(y_j|x_i))+log_2(P(x_i))]\\\\\n",
    "&=   -\\sum_{i}\\sum_j P(y_j|x_i)P(x_i)log_2(P(y_j|x_i)) -\\sum_{i}\\sum_j P(y_j|x_i)P(x_i)log_2(P(x_i))\\\\\n",
    "&= -\\sum_{i}\\sum_j P(x_i, y_j)log_2(P(y_j|x_i)) -\\sum_{i}P(x_i)log_2(P(x_i))\\underbrace{\\sum_j P(y_j|x_i)}_{=1}\\\\\n",
    "Donc, \\ \\boxed{H(X, Y)=H(Y|X)+H(X)}\n",
    "\\end{align}\n",
    "$$\n",
    "\n",
    "### 2-Montrons que $I[X,Y] = H[X] - H[X|Y] $\n",
    " \n",
    "On a : "
   ]
  },
  {
   "cell_type": "code",
   "execution_count": null,
   "id": "c95f20d4",
   "metadata": {},
   "outputs": [],
   "source": []
  },
  {
   "cell_type": "markdown",
   "id": "3246a1a3",
   "metadata": {},
   "source": [
    "Partie 2\n",
    "\n",
    "pip install nbstripout"
   ]
  },
  {
   "cell_type": "code",
   "execution_count": null,
   "id": "f7f2990a",
   "metadata": {},
   "outputs": [],
   "source": []
  },
  {
   "cell_type": "code",
   "execution_count": null,
   "id": "21146ca7",
   "metadata": {},
   "outputs": [],
   "source": [
    "import pandas as pd\n",
    "\n",
    "file_path = 'Wage.csv'\n",
    "data = pd.read_csv(file_path)\n",
    "\n",
    "print(data.head())\n",
    "\n",
    "print(data.columns)"
   ]
  },
  {
   "cell_type": "code",
   "execution_count": null,
   "id": "00c1de97",
   "metadata": {},
   "outputs": [],
   "source": [
    "# year : année de l'enquète\n",
    "# age : age de l'employé lors de l'enquète\n",
    "# maritl : état civil de l'employer\n",
    "# 1. Jamais marié, 2. Marié, 3. Veuf, 4. Divorcé et 5. Séparé\n",
    "# race : caractère physique de l'employé\n",
    "# 1. Blanc, 2. Noir, 3. Asiatique et 4. Autre\n",
    "# education : niveau d'éducation de l'employer (diplome)\n",
    "# 1. <  Lycée, 2. Lycée, 3. Université, 4. Diplome universitaire et 5. Diplome post-universitaire\n",
    "# region : région géographique d'origine de l'employer (région mid-atlantic des Etats-Unis seulement)\n",
    "# jobclass : secteur d'activité de l'employé\n",
    "# 1. Industriel et 2. Information\n",
    "# health : état de santé\n",
    "# 1. <=Bonne santé, 2. >=Très bonne santé\n",
    "# health_ins : si l'emploiyé possède un assurance santé\n",
    "# 1. Oui et 2. Non\n",
    "# wage : salaire brut de l'employé\n",
    "# logwage : logarithme du salaire de l'employé "
   ]
  }
 ],
 "metadata": {
  "language_info": {
   "name": "python"
  }
 },
 "nbformat": 4,
 "nbformat_minor": 5
}
